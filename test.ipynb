{
 "cells": [
  {
   "cell_type": "code",
   "execution_count": null,
   "metadata": {},
   "outputs": [],
   "source": [
    "import random\n",
    "import string"
   ]
  },
  {
   "cell_type": "code",
   "execution_count": 14,
   "metadata": {},
   "outputs": [],
   "source": [
    "import hashlib\n",
    "\n",
    "def hash_data(data, hash_function = 'sha256'):\n",
    "    \"hash function\"\n",
    "    hash_function = getattr(hashlib, hash_function)\n",
    "    data = data.encode('utf-8')\n",
    "    return hash_function(data).hexdigest()\n",
    "\n",
    "def concat_and_hash_list(lst, hash_function = 'sha256'):\n",
    "    lst1 = []\n",
    "    for i in lst:\n",
    "        lst1.append(hash_data(i))\n",
    "    # print(lst1)\n",
    "\n",
    "    assert len(lst1)>2, \"no tracnsactions to be hashed\"\n",
    "    n = 0 #merkle树高度\n",
    "    while len(lst1) >1:\n",
    "        n += 1\n",
    "        if len(lst1)%2 == 0:\n",
    "            v = []\n",
    "            while len(lst1) >1 :\n",
    "                a = lst1.pop(0)\n",
    "                b = lst1.pop(0)\n",
    "                v.append(hash_data(a+b, hash_function))\n",
    "            lst1 = v\n",
    "        else:\n",
    "            v = []\n",
    "            l = lst1.pop(-1)\n",
    "            while len(lst1) >1 :\n",
    "                a = lst1.pop(0)\n",
    "                b = lst1.pop(0)\n",
    "                v.append(hash_data(a+b, hash_function))\n",
    "            v.append(l)\n",
    "            lst1 = v\n",
    "    return lst1[0]"
   ]
  },
  {
   "cell_type": "code",
   "execution_count": 16,
   "metadata": {},
   "outputs": [
    {
     "name": "stdout",
     "output_type": "stream",
     "text": [
      "58c89d709329eb37285837b042ab6ff72c7c8f74de0446b091b6a0131c102cfd\n"
     ]
    }
   ],
   "source": [
    "l = ['a', 'b', 'c',\"d\"]\n",
    "print(concat_and_hash_list(l))"
   ]
  },
  {
   "cell_type": "code",
   "execution_count": 21,
   "metadata": {},
   "outputs": [],
   "source": [
    "class merkletree4test:\n",
    "    def __init__(self,k,n) -> None:\n",
    "        self.k = k\n",
    "        self.n = n\n",
    "\n",
    "        node_dict = {}\n",
    "        for _ in range(n):\n",
    "            tmp = []\n",
    "            for cnt in range(2**(k-1)):\n",
    "                tmp.append(random.choice(string.ascii_letters))\n",
    "            node_dict[_] = tmp\n",
    "        self.node_dict = node_dict\n",
    "\n",
    "        hash_dict = {}\n",
    "        for k,v in node_dict.items():\n",
    "            hash_dict[k]=concat_and_hash_list(v)\n",
    "        self.hash_dict=hash_dict\n",
    "    \n",
    "    def show_node_dict(self):\n",
    "        for k,v in self.node_dict.items():\n",
    "            print(f\"key: {k}              data: {v}\")\n",
    "\n",
    "    def show_hash_dict(self):\n",
    "        for k,v in self.hash_dict.items():\n",
    "            print(f\"key: {k}              hash: {v}\")\n",
    "\n",
    "    def node2hash(self):\n",
    "        pass\n"
   ]
  },
  {
   "cell_type": "code",
   "execution_count": 26,
   "metadata": {},
   "outputs": [
    {
     "name": "stdout",
     "output_type": "stream",
     "text": [
      "key: 0              data: ['C', 'G', 'J', 'E', 'W', 'h', 'e', 'M', 'm', 'b', 'y', 'L', 'y', 'Q', 'n', 'c']\n",
      "key: 1              data: ['w', 'M', 's', 'J', 'Q', 'a', 'v', 'o', 'v', 'B', 'n', 'U', 'm', 'B', 'X', 'J']\n",
      "key: 2              data: ['S', 'K', 'O', 'g', 'x', 'w', 'B', 'Q', 'M', 'E', 'W', 'd', 'z', 'F', 'b', 'D']\n",
      "key: 3              data: ['R', 'X', 'y', 'L', 'A', 'c', 'y', 'G', 'p', 'y', 'm', 'm', 'p', 'i', 'L', 'i']\n",
      "key: 4              data: ['a', 'z', 'O', 'D', 'R', 'N', 'A', 'X', 'V', 'U', 'E', 'I', 'D', 'k', 'C', 'f']\n",
      "key: 5              data: ['P', 'm', 'L', 'm', 'y', 'd', 'r', 'T', 'Q', 'R', 'Z', 'Z', 'L', 'G', 'h', 'B']\n",
      "key: 6              data: ['u', 'k', 'Q', 'u', 'L', 'q', 'S', 'h', 'h', 'x', 'O', 'S', 'M', 'd', 'c', 'V']\n",
      "key: 7              data: ['i', 'K', 'a', 'w', 'O', 'X', 'n', 'q', 'M', 'm', 'M', 's', 'V', 'H', 'c', 'b']\n",
      "key: 8              data: ['M', 'R', 'f', 's', 'p', 'm', 'A', 'a', 'T', 'y', 'V', 'Q', 'Y', 'y', 'C', 'f']\n",
      "key: 9              data: ['j', 'p', 'x', 'u', 'r', 'r', 'k', 'f', 'z', 'm', 'F', 'g', 'o', 'z', 'i', 'n']\n",
      "key: 0              hash: 023d145f26f8730918993b441e974163ed96376d35e3669250749d8601e1b33b\n",
      "key: 1              hash: e353b4ddca103fe3a7432ca366d24f5ff778ac66faa37b545b7470662735fc9e\n",
      "key: 2              hash: bb03af4331d8df534ab985a971ee2e016e7adca38edb58a12c9a421c84b58012\n",
      "key: 3              hash: a04d5dff1a5f6046576079112733e0ffd35d919ab0fafe02790ba5450223ca23\n",
      "key: 4              hash: cc31ea24c949c9559de89a405bec6e4b8905f550113c030cd46d97e7d0b2c746\n",
      "key: 5              hash: 1b9b97aa8bda0ddce9b35d948cedb9091d351abdd971fef9cb923468d4795c2d\n",
      "key: 6              hash: 9d2aa5384b20aea9731c1f7d569b77df85ef9bf2f11be99fd69c88a766161ac9\n",
      "key: 7              hash: 62c2d4b6bec9b980d86515ecdbbed0d75004f7d7d57037e9523aecfca0b603d9\n",
      "key: 8              hash: fdb54735b52b17d9733ae76169670231d5ada84d5a570082d92cedf49c29136c\n",
      "key: 9              hash: 8f181e9203fd9766c9d148d074bcc15a9db2fdefd8d87ba0db67d077522ce633\n"
     ]
    }
   ],
   "source": [
    "mk = merkletree4test(5,10)\n",
    "mk.show_node_dict()\n",
    "\n",
    "mk.show_hash_dict()"
   ]
  },
  {
   "cell_type": "code",
   "execution_count": 69,
   "metadata": {},
   "outputs": [
    {
     "data": {
      "text/plain": [
       "'M'"
      ]
     },
     "execution_count": 69,
     "metadata": {},
     "output_type": "execute_result"
    }
   ],
   "source": [
    "mk.node_dict[1][1]"
   ]
  },
  {
   "cell_type": "code",
   "execution_count": 3,
   "metadata": {},
   "outputs": [
    {
     "name": "stdout",
     "output_type": "stream",
     "text": [
      "w\n"
     ]
    }
   ],
   "source": [
    "import random\n",
    "import string\n",
    "rand = random.choice(string.ascii_letters)\n",
    "print(rand)"
   ]
  },
  {
   "cell_type": "code",
   "execution_count": 45,
   "metadata": {},
   "outputs": [],
   "source": [
    "blockchain = []\n",
    "import hashlib as hasher"
   ]
  },
  {
   "cell_type": "code",
   "execution_count": 55,
   "metadata": {},
   "outputs": [],
   "source": [
    "def hash(index, data,  previous_hash):\n",
    "    sha = hasher.sha256()\n",
    "    sha.update(\"{0}{1}{2}\".format(\n",
    "        index, data,  previous_hash).encode(\"utf8\"))\n",
    "    return sha.hexdigest()"
   ]
  },
  {
   "cell_type": "code",
   "execution_count": 49,
   "metadata": {},
   "outputs": [],
   "source": [
    "def make_a_block(index,data, hash1, previous_hash):\n",
    "    block = {}\n",
    "    block[\"index\"] = index\n",
    "    block[\"data\"] = data\n",
    "    block['merkle'] = hash1\n",
    "    block[\"previous_hash\"] = previous_hash\n",
    "    block[\"hash\"] = hash(index, hash1,  previous_hash)\n",
    "    return block"
   ]
  },
  {
   "cell_type": "code",
   "execution_count": 50,
   "metadata": {},
   "outputs": [],
   "source": [
    "def make_a_genesis_block():\n",
    "    index = 0\n",
    "    data = \"Genesis Block\"\n",
    "    previous_hash = 0\n",
    "    hash = 0\n",
    "    blockchain.append(make_a_block(index, data, hash, previous_hash))"
   ]
  },
  {
   "cell_type": "code",
   "execution_count": 51,
   "metadata": {},
   "outputs": [],
   "source": [
    "def add_a_block(data,hash1):\n",
    "\n",
    "    last_block = blockchain[len(blockchain)-1]\n",
    "    index = last_block[\"index\"]+1\n",
    "    previous_hash = last_block[\"hash\"]\n",
    "\n",
    "    block = make_a_block(index,  data, hash1, previous_hash)\n",
    "    blockchain.append(block)\n",
    "    return index"
   ]
  },
  {
   "cell_type": "code",
   "execution_count": 52,
   "metadata": {},
   "outputs": [
    {
     "data": {
      "text/plain": [
       "'023d145f26f8730918993b441e974163ed96376d35e3669250749d8601e1b33b'"
      ]
     },
     "execution_count": 52,
     "metadata": {},
     "output_type": "execute_result"
    }
   ],
   "source": [
    "mk.hash_dict[0]"
   ]
  },
  {
   "cell_type": "code",
   "execution_count": 56,
   "metadata": {},
   "outputs": [
    {
     "name": "stdout",
     "output_type": "stream",
     "text": [
      "[{'index': 0, 'data': 'Genesis Block', 'merkle': 0, 'previous_hash': 0, 'hash': '2ac9a6746aca543af8dff39894cfe8173afba21eb01c6fae33d52947222855ef'}, {'index': 1, 'data': 'b1', 'merkle': '023d145f26f8730918993b441e974163ed96376d35e3669250749d8601e1b33b', 'previous_hash': '2ac9a6746aca543af8dff39894cfe8173afba21eb01c6fae33d52947222855ef', 'hash': 'bb78944cde1465210c45b5cf57eb82aa2bce69fca5ca9031b39af954d775ec14'}, {'index': 2, 'data': 'b2', 'merkle': 'e353b4ddca103fe3a7432ca366d24f5ff778ac66faa37b545b7470662735fc9e', 'previous_hash': 'bb78944cde1465210c45b5cf57eb82aa2bce69fca5ca9031b39af954d775ec14', 'hash': '0d8f25245aa71a8fdd00e120be0889ed6d7f0d36127e441873c9aac341502fb8'}, {'index': 3, 'data': 'b3', 'merkle': 'bb03af4331d8df534ab985a971ee2e016e7adca38edb58a12c9a421c84b58012', 'previous_hash': '0d8f25245aa71a8fdd00e120be0889ed6d7f0d36127e441873c9aac341502fb8', 'hash': 'cf944b187e76bcf8add3b851157b91033252b9b55fd6401034853674cf9252d3'}, {'index': 4, 'data': 'b4', 'merkle': 'a04d5dff1a5f6046576079112733e0ffd35d919ab0fafe02790ba5450223ca23', 'previous_hash': 'cf944b187e76bcf8add3b851157b91033252b9b55fd6401034853674cf9252d3', 'hash': '926add3fc43e5625cab6ba99d6f7759341fae04217e0d19681accf7656972b45'}, {'index': 5, 'data': 'b5', 'merkle': 'cc31ea24c949c9559de89a405bec6e4b8905f550113c030cd46d97e7d0b2c746', 'previous_hash': '926add3fc43e5625cab6ba99d6f7759341fae04217e0d19681accf7656972b45', 'hash': '6c4b5ebe4832e048c25349c5742b89c151f8d1b7a9ccec1bd6baaebbfa101448'}, {'index': 6, 'data': 'b6', 'merkle': '1b9b97aa8bda0ddce9b35d948cedb9091d351abdd971fef9cb923468d4795c2d', 'previous_hash': '6c4b5ebe4832e048c25349c5742b89c151f8d1b7a9ccec1bd6baaebbfa101448', 'hash': '0670b7c5cd9e4d6d92d5256dec590e262aa2f0e093b259a329dede79fb77da22'}, {'index': 7, 'data': 'b7', 'merkle': '9d2aa5384b20aea9731c1f7d569b77df85ef9bf2f11be99fd69c88a766161ac9', 'previous_hash': '0670b7c5cd9e4d6d92d5256dec590e262aa2f0e093b259a329dede79fb77da22', 'hash': '538ef71b7e9ba285fbd4f9ac9d5e983c9237ab5b102affc68369ecade10a5094'}, {'index': 8, 'data': 'b8', 'merkle': '62c2d4b6bec9b980d86515ecdbbed0d75004f7d7d57037e9523aecfca0b603d9', 'previous_hash': '538ef71b7e9ba285fbd4f9ac9d5e983c9237ab5b102affc68369ecade10a5094', 'hash': '2d18ff0290f2e171b3b0b2d6e4f351d2d3560f057543c2f98e4a40eac431ab9e'}, {'index': 9, 'data': 'b9', 'merkle': 'fdb54735b52b17d9733ae76169670231d5ada84d5a570082d92cedf49c29136c', 'previous_hash': '2d18ff0290f2e171b3b0b2d6e4f351d2d3560f057543c2f98e4a40eac431ab9e', 'hash': 'e8d24732a470d540ce7d13889277d784ffb56a1ee108b5d52791b180a2a4a6a3'}, {'index': 10, 'data': 'b10', 'merkle': '8f181e9203fd9766c9d148d074bcc15a9db2fdefd8d87ba0db67d077522ce633', 'previous_hash': 'e8d24732a470d540ce7d13889277d784ffb56a1ee108b5d52791b180a2a4a6a3', 'hash': 'd5e2a57632a2d3d0ac30f150f7c7b4c6e4a1a90b126b1894fcdcf0ddc477ad5a'}]\n"
     ]
    }
   ],
   "source": [
    "make_a_genesis_block()\n",
    "for i in range(10):\n",
    "    data=[\"b1\",\"b2\",\"b3\",\"b4\",\"b5\",\"b6\",\"b7\",\"b8\",\"b9\",\"b10\"]\n",
    "    add_a_block(data[i],mk.hash_dict[i])\n",
    "\n",
    "print(blockchain)\n",
    "\n"
   ]
  },
  {
   "cell_type": "code",
   "execution_count": 57,
   "metadata": {},
   "outputs": [
    {
     "ename": "ModuleNotFoundError",
     "evalue": "No module named 'ecdsa'",
     "output_type": "error",
     "traceback": [
      "\u001b[1;31m---------------------------------------------------------------------------\u001b[0m",
      "\u001b[1;31mModuleNotFoundError\u001b[0m                       Traceback (most recent call last)",
      "\u001b[1;32mC:\\Windows\\Temp\\ipykernel_24036\\1257450122.py\u001b[0m in \u001b[0;36m<module>\u001b[1;34m\u001b[0m\n\u001b[0;32m      1\u001b[0m \u001b[1;32mimport\u001b[0m \u001b[0mbase64\u001b[0m\u001b[1;33m\u001b[0m\u001b[1;33m\u001b[0m\u001b[0m\n\u001b[1;32m----> 2\u001b[1;33m \u001b[1;32mimport\u001b[0m \u001b[0mecdsa\u001b[0m\u001b[1;33m\u001b[0m\u001b[1;33m\u001b[0m\u001b[0m\n\u001b[0m",
      "\u001b[1;31mModuleNotFoundError\u001b[0m: No module named 'ecdsa'"
     ]
    }
   ],
   "source": [
    "import base64\n",
    "import ecdsa"
   ]
  },
  {
   "cell_type": "code",
   "execution_count": 59,
   "metadata": {},
   "outputs": [],
   "source": [
    "def generate_ECDSA_keys():\n",
    "    sk = ecdsa.SigningKey.generate(curve=ecdsa.SECP256k1) #this is your sign (private key)\n",
    "    private_key = sk.to_string().hex() #convert your private key to hex\n",
    "    vk = sk.get_verifying_key() #this is your verification key (public key)\n",
    "    public_key = vk.to_string().hex()\n",
    "    public_key = base64.b64encode(bytes.fromhex(public_key))\n",
    "    return public_key.decode(),private_key"
   ]
  },
  {
   "cell_type": "code",
   "execution_count": 60,
   "metadata": {},
   "outputs": [],
   "source": [
    "def sign(private_key, data):\n",
    "    sk = ecdsa.SigningKey.from_string(bytes.fromhex(private_key), curve=ecdsa.SECP256k1)\n",
    "    return base64.b64encode(sk.sign(data)).decode()\n",
    "\n"
   ]
  },
  {
   "cell_type": "code",
   "execution_count": 61,
   "metadata": {},
   "outputs": [],
   "source": [
    "def validate_signature(public_key, signature, message):\n",
    "    public_key = (base64.b64decode(public_key)).hex()\n",
    "    signature = base64.b64decode(signature)\n",
    "    try:\n",
    "        vk = ecdsa.VerifyingKey.from_string(\n",
    "            bytes.fromhex(public_key), curve=ecdsa.SECP256k1)\n",
    "        return vk.verify(signature, message.encode())\n",
    "    except:\n",
    "        return False"
   ]
  },
  {
   "cell_type": "code",
   "execution_count": 58,
   "metadata": {},
   "outputs": [],
   "source": [
    "a=input(\"input the index of block\")\n",
    "b=input(\"index in tree\")\n",
    "na=random.random()\n",
    "public_key.decode(),private_key=generate_ECDSA_keys()\n",
    "signaturesign(private_key, na)\n",
    "validate_signature(public_key, signature, message)"
   ]
  },
  {
   "cell_type": "code",
   "execution_count": null,
   "metadata": {},
   "outputs": [],
   "source": []
  },
  {
   "cell_type": "code",
   "execution_count": null,
   "metadata": {},
   "outputs": [],
   "source": [
    "print(block)"
   ]
  },
  {
   "cell_type": "code",
   "execution_count": 67,
   "metadata": {},
   "outputs": [
    {
     "name": "stdout",
     "output_type": "stream",
     "text": [
      "found\n",
      "0.0009953975677490234\n"
     ]
    }
   ],
   "source": [
    "import time\n",
    "\n",
    "starttime = time.time()\n",
    "blockidx = 0\n",
    "nodeidx = 1\n",
    "\n",
    "for _ in blockchain:\n",
    "    if _['index'] == blockidx:\n",
    "        \n",
    "        print(\"found\")\n",
    "    \n",
    "\n",
    "endtime = time.time()\n",
    "print(f\"{endtime-starttime}\")"
   ]
  },
  {
   "cell_type": "code",
   "execution_count": null,
   "metadata": {},
   "outputs": [],
   "source": []
  }
 ],
 "metadata": {
  "kernelspec": {
   "display_name": "Python 3.7.9 64-bit (microsoft store)",
   "language": "python",
   "name": "python3"
  },
  "language_info": {
   "codemirror_mode": {
    "name": "ipython",
    "version": 3
   },
   "file_extension": ".py",
   "mimetype": "text/x-python",
   "name": "python",
   "nbconvert_exporter": "python",
   "pygments_lexer": "ipython3",
   "version": "3.7.9"
  },
  "orig_nbformat": 4,
  "vscode": {
   "interpreter": {
    "hash": "7cc19d99704342bc36f07b4db7ce102281b0e7fb0497d639fbffd2e5a37244b6"
   }
  }
 },
 "nbformat": 4,
 "nbformat_minor": 2
}
